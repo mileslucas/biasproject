{
 "cells": [
  {
   "cell_type": "code",
   "execution_count": 68,
   "metadata": {
    "collapsed": true
   },
   "outputs": [],
   "source": [
    "import newspaper as N\n",
    "import numpy as np\n",
    "from google.cloud import language\n",
    "from google.cloud.language import enums\n",
    "from google.cloud.language import types"
   ]
  },
  {
   "cell_type": "code",
   "execution_count": 124,
   "metadata": {
    "collapsed": true
   },
   "outputs": [],
   "source": [
    "sites = {\n",
    "    'CNN':'http://www.cnn.com/',\n",
    "    'Fox':'http://www.foxnews.com/',\n",
    "    'NPR':'https://www.npr.org/sections/news/',\n",
    "    'BBC':'http://www.bbc.com/news/world/us_and_canada',\n",
    "    'NYT':'https://www.nytimes.com/',\n",
    "    'WaPo':'https://www.washingtonpost.com/',\n",
    "    'BNN':'http://www.breitbart.com/',\n",
    "    'Gdn':'https://www.theguardian.com/us',\n",
    "    'Pol':'https://www.politico.com/',\n",
    "    'ABC':'http://abcnews.go.com/',\n",
    "    'Huff':'https://www.huffingtonpost.com/'\n",
    "}"
   ]
  },
  {
   "cell_type": "code",
   "execution_count": 158,
   "metadata": {
    "collapsed": true
   },
   "outputs": [],
   "source": [
    "def get_trump_score(url):\n",
    "    # Get article text\n",
    "    site = N.build(url, memoize_articles=False)\n",
    "    \n",
    "    scores = []\n",
    "    for art in site.articles:\n",
    "        if 'politics' in art.url or 'trump' in art.url.lower():\n",
    "            art.download()\n",
    "            art.parse()\n",
    "            if 'trump' in art.title.lower() or 'trump' in art.text.lower():\n",
    "                scores.append(get_article_score(art.text))\n",
    "    filtered_scores = [s for s in scores if s is not None]\n",
    "    sc, mag = np.array(filtered_scores).T\n",
    "    return np.average(sc), np.average(mag)\n",
    "    \n",
    "\n",
    "def get_article_score(text):\n",
    "    TRUMPISMS = ['donald j. trump', 'donald j trump', 'donald trump', 'president','trump', 'donald', 'administration']\n",
    "    \n",
    "    # Instantiates a client\n",
    "    client = language.LanguageServiceClient()\n",
    "    document = types.Document(\n",
    "        content=text,\n",
    "        type=enums.Document.Type.PLAIN_TEXT)\n",
    "    try:\n",
    "        result = client.analyze_entity_sentiment(document=document)\n",
    "    except:\n",
    "        return None\n",
    "    sents = []\n",
    "    for entity in result.entities:\n",
    "        if entity.name.lower() in TRUMPISMS:\n",
    "            sent = entity.sentiment\n",
    "            if sent.score != 0 or sent.magnitude != 0:\n",
    "                sents.append((sent.score, sent.magnitude))\n",
    "    if len(sents) == 0:\n",
    "        return None\n",
    "    score, mag = np.array(sents).T\n",
    "    return np.average(score), np.average(mag)"
   ]
  },
  {
   "cell_type": "code",
   "execution_count": 115,
   "metadata": {},
   "outputs": [
    {
     "name": "stdout",
     "output_type": "stream",
     "text": [
      "(-0.18924731480818921, 0.89731184224928584)\n"
     ]
    }
   ],
   "source": [
    "print(get_trump_score('BNN'))"
   ]
  },
  {
   "cell_type": "code",
   "execution_count": 159,
   "metadata": {},
   "outputs": [
    {
     "name": "stdout",
     "output_type": "stream",
     "text": [
      "1 of 11. 9.1%\n"
     ]
    },
    {
     "name": "stderr",
     "output_type": "stream",
     "text": [
      "C:\\Users\\drumm\\Anaconda3\\lib\\site-packages\\PIL\\TiffImagePlugin.py:692: UserWarning: Possibly corrupt EXIF data.  Expecting to read 2060 bytes but only got 268. Skipping tag 59932\n",
      "  \"Skipping tag %s\" % (size, len(data), tag))\n",
      "C:\\Users\\drumm\\Anaconda3\\lib\\site-packages\\PIL\\TiffImagePlugin.py:709: UserWarning: Corrupt EXIF data.  Expecting to read 2 bytes but only got 0. \n",
      "  warnings.warn(str(msg))\n",
      "C:\\Users\\drumm\\Anaconda3\\lib\\site-packages\\PIL\\TiffImagePlugin.py:692: UserWarning: Possibly corrupt EXIF data.  Expecting to read 2060 bytes but only got 1292. Skipping tag 59932\n",
      "  \"Skipping tag %s\" % (size, len(data), tag))\n",
      "C:\\Users\\drumm\\Anaconda3\\lib\\site-packages\\PIL\\TiffImagePlugin.py:692: UserWarning: Possibly corrupt EXIF data.  Expecting to read 8 bytes but only got 0. Skipping tag 33434\n",
      "  \"Skipping tag %s\" % (size, len(data), tag))\n",
      "C:\\Users\\drumm\\Anaconda3\\lib\\site-packages\\PIL\\TiffImagePlugin.py:692: UserWarning: Possibly corrupt EXIF data.  Expecting to read 8 bytes but only got 0. Skipping tag 33437\n",
      "  \"Skipping tag %s\" % (size, len(data), tag))\n",
      "C:\\Users\\drumm\\Anaconda3\\lib\\site-packages\\PIL\\TiffImagePlugin.py:692: UserWarning: Possibly corrupt EXIF data.  Expecting to read 20 bytes but only got 0. Skipping tag 36867\n",
      "  \"Skipping tag %s\" % (size, len(data), tag))\n",
      "C:\\Users\\drumm\\Anaconda3\\lib\\site-packages\\PIL\\TiffImagePlugin.py:692: UserWarning: Possibly corrupt EXIF data.  Expecting to read 20 bytes but only got 0. Skipping tag 36868\n",
      "  \"Skipping tag %s\" % (size, len(data), tag))\n",
      "C:\\Users\\drumm\\Anaconda3\\lib\\site-packages\\PIL\\TiffImagePlugin.py:692: UserWarning: Possibly corrupt EXIF data.  Expecting to read 8 bytes but only got 0. Skipping tag 37377\n",
      "  \"Skipping tag %s\" % (size, len(data), tag))\n",
      "C:\\Users\\drumm\\Anaconda3\\lib\\site-packages\\PIL\\TiffImagePlugin.py:692: UserWarning: Possibly corrupt EXIF data.  Expecting to read 8 bytes but only got 0. Skipping tag 37378\n",
      "  \"Skipping tag %s\" % (size, len(data), tag))\n",
      "C:\\Users\\drumm\\Anaconda3\\lib\\site-packages\\PIL\\TiffImagePlugin.py:692: UserWarning: Possibly corrupt EXIF data.  Expecting to read 8 bytes but only got 0. Skipping tag 37380\n",
      "  \"Skipping tag %s\" % (size, len(data), tag))\n",
      "C:\\Users\\drumm\\Anaconda3\\lib\\site-packages\\PIL\\TiffImagePlugin.py:692: UserWarning: Possibly corrupt EXIF data.  Expecting to read 8 bytes but only got 0. Skipping tag 37382\n",
      "  \"Skipping tag %s\" % (size, len(data), tag))\n",
      "C:\\Users\\drumm\\Anaconda3\\lib\\site-packages\\PIL\\TiffImagePlugin.py:692: UserWarning: Possibly corrupt EXIF data.  Expecting to read 8 bytes but only got 0. Skipping tag 37386\n",
      "  \"Skipping tag %s\" % (size, len(data), tag))\n",
      "C:\\Users\\drumm\\Anaconda3\\lib\\site-packages\\PIL\\TiffImagePlugin.py:709: UserWarning: Corrupt EXIF data.  Expecting to read 12 bytes but only got 2. \n",
      "  warnings.warn(str(msg))\n",
      "C:\\Users\\drumm\\Anaconda3\\lib\\site-packages\\PIL\\TiffImagePlugin.py:692: UserWarning: Possibly corrupt EXIF data.  Expecting to read 2060 bytes but only got 636. Skipping tag 59932\n",
      "  \"Skipping tag %s\" % (size, len(data), tag))\n",
      "C:\\Users\\drumm\\Anaconda3\\lib\\site-packages\\PIL\\TiffImagePlugin.py:692: UserWarning: Possibly corrupt EXIF data.  Expecting to read 2060 bytes but only got 1660. Skipping tag 59932\n",
      "  \"Skipping tag %s\" % (size, len(data), tag))\n"
     ]
    },
    {
     "name": "stdout",
     "output_type": "stream",
     "text": [
      "2 of 11. 10.1%\n",
      "3 of 11. 11.1%\n",
      "4 of 11. 12.1%\n",
      "5 of 11. 13.1%\n",
      "6 of 11. 14.1%\n",
      "7 of 11. 15.1%\n",
      "8 of 11. 16.1%\n",
      "9 of 11. 17.1%\n",
      "10 of 11. 18.1%\n",
      "11 of 11. 19.1%\n"
     ]
    },
    {
     "data": {
      "text/plain": [
       "([<matplotlib.axis.XTick at 0x1a4250eb3c8>,\n",
       "  <matplotlib.axis.XTick at 0x1a4250ebd68>,\n",
       "  <matplotlib.axis.XTick at 0x1a418124be0>,\n",
       "  <matplotlib.axis.XTick at 0x1a4250eb2e8>,\n",
       "  <matplotlib.axis.XTick at 0x1a422dc8588>,\n",
       "  <matplotlib.axis.XTick at 0x1a422dd1128>,\n",
       "  <matplotlib.axis.XTick at 0x1a4253e17f0>,\n",
       "  <matplotlib.axis.XTick at 0x1a425408898>,\n",
       "  <matplotlib.axis.XTick at 0x1a425408b38>,\n",
       "  <matplotlib.axis.XTick at 0x1a4252f26a0>,\n",
       "  <matplotlib.axis.XTick at 0x1a422f14470>],\n",
       " <a list of 11 Text xticklabel objects>)"
      ]
     },
     "execution_count": 159,
     "metadata": {},
     "output_type": "execute_result"
    },
    {
     "data": {
      "image/png": "[encoded data removed]",
      "text/plain": [
       "<matplotlib.figure.Figure at 0x1a425c05d68>"
      ]
     },
     "metadata": {},
     "output_type": "display_data"
    }
   ],
   "source": [
    "%matplotlib inline\n",
    "import matplotlib.pyplot as plt\n",
    "scores = []\n",
    "mags = []\n",
    "for i, url in enumerate(sites.values()):\n",
    "    print('{} of {}. {:.1f}%'.format(i+1, len(sites), i+1/len(sites)*100))\n",
    "    score, mag = get_trump_score(url)\n",
    "    scores.append(score)\n",
    "    mags.append(mag)"
   ]
  },
  {
   "cell_type": "code",
   "execution_count": 160,
   "metadata": {},
   "outputs": [
    {
     "data": {
      "text/plain": [
       "([<matplotlib.axis.XTick at 0x1a4256532e8>,\n",
       "  <matplotlib.axis.XTick at 0x1a422dc8160>,\n",
       "  <matplotlib.axis.XTick at 0x1a4270bd278>,\n",
       "  <matplotlib.axis.XTick at 0x1a4252bdba8>,\n",
       "  <matplotlib.axis.XTick at 0x1a42566d358>,\n",
       "  <matplotlib.axis.XTick at 0x1a425171780>,\n",
       "  <matplotlib.axis.XTick at 0x1a425171048>,\n",
       "  <matplotlib.axis.XTick at 0x1a42526be48>,\n",
       "  <matplotlib.axis.XTick at 0x1a42948c5f8>,\n",
       "  <matplotlib.axis.XTick at 0x1a42948c6a0>,\n",
       "  <matplotlib.axis.XTick at 0x1a4250ec2b0>],\n",
       " <a list of 11 Text xticklabel objects>)"
      ]
     },
     "execution_count": 160,
     "metadata": {},
     "output_type": "execute_result"
    },
    {
     "data": {
      "image/png": "[encoded data removed]",
      "text/plain": [
       "<matplotlib.figure.Figure at 0x1a4232f7e80>"
      ]
     },
     "metadata": {},
     "output_type": "display_data"
    }
   ],
   "source": [
    "x = np.arange(len(scores))\n",
    "plt.bar(x, scores)\n",
    "plt.xticks(x, list(sites)[:len(scores)])"
   ]
  },
  {
   "cell_type": "code",
   "execution_count": 167,
   "metadata": {},
   "outputs": [
    {
     "data": {
      "text/plain": [
       "<matplotlib.axes._subplots.AxesSubplot at 0x1a429966198>"
      ]
     },
     "execution_count": 167,
     "metadata": {},
     "output_type": "execute_result"
    },
    {
     "data": {
      "image/png": "[encoded data removed]",
      "text/plain": [
       "<matplotlib.figure.Figure at 0x1a4126dc320>"
      ]
     },
     "metadata": {},
     "output_type": "display_data"
    }
   ],
   "source": [
    "from seaborn import distplot\n",
    "from scipy.stats import norm\n",
    "distplot(scores, kde=False, fit=norm)"
   ]
  },
  {
   "cell_type": "code",
   "execution_count": null,
   "metadata": {
    "collapsed": true
   },
   "outputs": [],
   "source": []
  }
 ],
 "metadata": {
  "kernelspec": {
   "display_name": "Python 3",
   "language": "python",
   "name": "python3"
  },
  "language_info": {
   "codemirror_mode": {
    "name": "ipython",
    "version": 3
   },
   "file_extension": ".py",
   "mimetype": "text/x-python",
   "name": "python",
   "nbconvert_exporter": "python",
   "pygments_lexer": "ipython3",
   "version": "3.6.1"
  }
 },
 "nbformat": 4,
 "nbformat_minor": 2
}
